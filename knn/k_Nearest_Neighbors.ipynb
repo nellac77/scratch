{
 "cells": [
  {
   "cell_type": "markdown",
   "metadata": {},
   "source": [
    "# Building the *k*NN classifier"
   ]
  },
  {
   "cell_type": "markdown",
   "metadata": {},
   "source": [
    "Since each data point in the training set essentially get to vote for its respective group, when called upon as a neighbor, we'll start with defining a function to count each point's vote."
   ]
  },
  {
   "cell_type": "code",
   "execution_count": 8,
   "metadata": {},
   "outputs": [],
   "source": [
    "# import the counter\n",
    "from collections import Counter\n",
    "\n",
    "def raw_majority_vote(labels):\n",
    "    votes = Counter(labels)\n",
    "    winner, _ = votes.most_common(1)[0]\n",
    "    return(winner)"
   ]
  },
  {
   "cell_type": "code",
   "execution_count": 2,
   "metadata": {},
   "outputs": [],
   "source": [
    "# Test it with some labels\n",
    "test_label = [\"cool\", \"uncool\", \"uncool\", \"uncool\", \"cool\", \"uncool\", \"cool\", \"uncool\", \"cool\", \"cool\", \"cool\", \"cool\", \"cool\", \"uncool\", \"cool\"]"
   ]
  },
  {
   "cell_type": "code",
   "execution_count": 9,
   "metadata": {},
   "outputs": [
    {
     "data": {
      "text/plain": [
       "'cool'"
      ]
     },
     "execution_count": 9,
     "metadata": {},
     "output_type": "execute_result"
    }
   ],
   "source": [
    "# Let's test it out\n",
    "raw_majority_vote(test_label)"
   ]
  },
  {
   "cell_type": "markdown",
   "metadata": {},
   "source": [
    "Now that we went through the trouble of making a vote counter, we are presented with a situation where there are an equal number of votes. How do we handle those ties?\n",
    "\n",
    "One thing we could do with ties is consider data points near the point that needs a label, why not select some number of them? Call that number *k*. What if we take that number, *k*, of the data points closest to the one we wish to label and count their votes?"
   ]
  },
  {
   "cell_type": "code",
   "execution_count": 10,
   "metadata": {},
   "outputs": [],
   "source": [
    "def majority_vote(labels):\n",
    "    # function assumes labels are ordered from near to far\n",
    "    vote_counts = Counter(labels)\n",
    "    winner, winner_count = vote_counts.most_common(1)[0]\n",
    "    num_winners = len([count\n",
    "                      for count in vote_counts.values()\n",
    "                      if count == winner_count])\n",
    "    if num_winners == 1:\n",
    "        return(winner) # for unique winner\n",
    "    else:\n",
    "        return(majority_vote(labels[:-1])) # reduce by lopping off the furthest away"
   ]
  },
  {
   "cell_type": "code",
   "execution_count": 12,
   "metadata": {},
   "outputs": [
    {
     "data": {
      "text/plain": [
       "'cool'"
      ]
     },
     "execution_count": 12,
     "metadata": {},
     "output_type": "execute_result"
    }
   ],
   "source": [
    "# Test it out\n",
    "majority_vote(test_label)"
   ]
  },
  {
   "cell_type": "markdown",
   "metadata": {},
   "source": [
    "By reducing it down, we give a means of creating a classifier for the *k*-nearest neighbors."
   ]
  },
  {
   "cell_type": "code",
   "execution_count": 16,
   "metadata": {},
   "outputs": [],
   "source": [
    "def knn_classify(k, labeled_points, new_point):\n",
    "    # labeled points should be a pair (point, label), like an ordered pair (x, y)\n",
    "    \n",
    "    # order the labeled points from nearest to furthest\n",
    "    by_distance = sorted(labeled_points,\n",
    "                        key=lambda point, _: distance(point, new_point))\n",
    "    \n",
    "    # find labels for the k nearest neighbors\n",
    "    k_nearest_labels = [labels for _, label in by_distance[:k]]\n",
    "    \n",
    "    # let 'em vote\n",
    "    return(majority_vote(k_nearest_labels))"
   ]
  },
  {
   "cell_type": "code",
   "execution_count": null,
   "metadata": {},
   "outputs": [],
   "source": []
  }
 ],
 "metadata": {
  "kernelspec": {
   "display_name": "Python 3",
   "language": "python",
   "name": "python3"
  },
  "language_info": {
   "codemirror_mode": {
    "name": "ipython",
    "version": 3
   },
   "file_extension": ".py",
   "mimetype": "text/x-python",
   "name": "python",
   "nbconvert_exporter": "python",
   "pygments_lexer": "ipython3",
   "version": "3.5.5"
  }
 },
 "nbformat": 4,
 "nbformat_minor": 2
}
